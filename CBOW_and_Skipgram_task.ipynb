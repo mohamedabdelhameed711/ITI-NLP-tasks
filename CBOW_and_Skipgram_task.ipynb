{
  "nbformat": 4,
  "nbformat_minor": 0,
  "metadata": {
    "colab": {
      "provenance": []
    },
    "kernelspec": {
      "name": "python3",
      "display_name": "Python 3"
    },
    "language_info": {
      "name": "python"
    }
  },
  "cells": [
    {
      "cell_type": "code",
      "execution_count": 1,
      "metadata": {
        "id": "GttuKWyYnCdG",
        "colab": {
          "base_uri": "https://localhost:8080/"
        },
        "outputId": "54c366d3-86a8-434d-a287-0b2b0bd4f4cb"
      },
      "outputs": [
        {
          "output_type": "stream",
          "name": "stdout",
          "text": [
            "Collecting gensim\n",
            "  Downloading gensim-4.3.3-cp311-cp311-manylinux_2_17_x86_64.manylinux2014_x86_64.whl.metadata (8.1 kB)\n",
            "Collecting numpy<2.0,>=1.18.5 (from gensim)\n",
            "  Downloading numpy-1.26.4-cp311-cp311-manylinux_2_17_x86_64.manylinux2014_x86_64.whl.metadata (61 kB)\n",
            "\u001b[2K     \u001b[90m━━━━━━━━━━━━━━━━━━━━━━━━━━━━━━━━━━━━━━━━\u001b[0m \u001b[32m61.0/61.0 kB\u001b[0m \u001b[31m3.2 MB/s\u001b[0m eta \u001b[36m0:00:00\u001b[0m\n",
            "\u001b[?25hCollecting scipy<1.14.0,>=1.7.0 (from gensim)\n",
            "  Downloading scipy-1.13.1-cp311-cp311-manylinux_2_17_x86_64.manylinux2014_x86_64.whl.metadata (60 kB)\n",
            "\u001b[2K     \u001b[90m━━━━━━━━━━━━━━━━━━━━━━━━━━━━━━━━━━━━━━━━\u001b[0m \u001b[32m60.6/60.6 kB\u001b[0m \u001b[31m4.0 MB/s\u001b[0m eta \u001b[36m0:00:00\u001b[0m\n",
            "\u001b[?25hRequirement already satisfied: smart-open>=1.8.1 in /usr/local/lib/python3.11/dist-packages (from gensim) (7.1.0)\n",
            "Requirement already satisfied: wrapt in /usr/local/lib/python3.11/dist-packages (from smart-open>=1.8.1->gensim) (1.17.2)\n",
            "Downloading gensim-4.3.3-cp311-cp311-manylinux_2_17_x86_64.manylinux2014_x86_64.whl (26.7 MB)\n",
            "\u001b[2K   \u001b[90m━━━━━━━━━━━━━━━━━━━━━━━━━━━━━━━━━━━━━━━━\u001b[0m \u001b[32m26.7/26.7 MB\u001b[0m \u001b[31m71.4 MB/s\u001b[0m eta \u001b[36m0:00:00\u001b[0m\n",
            "\u001b[?25hDownloading numpy-1.26.4-cp311-cp311-manylinux_2_17_x86_64.manylinux2014_x86_64.whl (18.3 MB)\n",
            "\u001b[2K   \u001b[90m━━━━━━━━━━━━━━━━━━━━━━━━━━━━━━━━━━━━━━━━\u001b[0m \u001b[32m18.3/18.3 MB\u001b[0m \u001b[31m88.5 MB/s\u001b[0m eta \u001b[36m0:00:00\u001b[0m\n",
            "\u001b[?25hDownloading scipy-1.13.1-cp311-cp311-manylinux_2_17_x86_64.manylinux2014_x86_64.whl (38.6 MB)\n",
            "\u001b[2K   \u001b[90m━━━━━━━━━━━━━━━━━━━━━━━━━━━━━━━━━━━━━━━━\u001b[0m \u001b[32m38.6/38.6 MB\u001b[0m \u001b[31m16.0 MB/s\u001b[0m eta \u001b[36m0:00:00\u001b[0m\n",
            "\u001b[?25hInstalling collected packages: numpy, scipy, gensim\n",
            "  Attempting uninstall: numpy\n",
            "    Found existing installation: numpy 2.0.2\n",
            "    Uninstalling numpy-2.0.2:\n",
            "      Successfully uninstalled numpy-2.0.2\n",
            "  Attempting uninstall: scipy\n",
            "    Found existing installation: scipy 1.15.2\n",
            "    Uninstalling scipy-1.15.2:\n",
            "      Successfully uninstalled scipy-1.15.2\n",
            "\u001b[31mERROR: pip's dependency resolver does not currently take into account all the packages that are installed. This behaviour is the source of the following dependency conflicts.\n",
            "thinc 8.3.6 requires numpy<3.0.0,>=2.0.0, but you have numpy 1.26.4 which is incompatible.\u001b[0m\u001b[31m\n",
            "\u001b[0mSuccessfully installed gensim-4.3.3 numpy-1.26.4 scipy-1.13.1\n"
          ]
        }
      ],
      "source": [
        "! pip install gensim\n"
      ]
    },
    {
      "cell_type": "code",
      "source": [
        "! pip uninstall numpy -y\n"
      ],
      "metadata": {
        "id": "qzNvmC19nEld",
        "colab": {
          "base_uri": "https://localhost:8080/"
        },
        "outputId": "71f33cb7-f389-4182-8b3e-5ba0347b0c59"
      },
      "execution_count": 2,
      "outputs": [
        {
          "output_type": "stream",
          "name": "stdout",
          "text": [
            "Found existing installation: numpy 1.26.4\n",
            "Uninstalling numpy-1.26.4:\n",
            "  Successfully uninstalled numpy-1.26.4\n"
          ]
        }
      ]
    },
    {
      "cell_type": "code",
      "source": [
        "! pip install numpy==1.24.4\n"
      ],
      "metadata": {
        "id": "3Rvz_ERLnEil",
        "colab": {
          "base_uri": "https://localhost:8080/"
        },
        "outputId": "447d9e25-ad45-46a1-beec-785995eb597e"
      },
      "execution_count": 1,
      "outputs": [
        {
          "output_type": "stream",
          "name": "stdout",
          "text": [
            "Requirement already satisfied: numpy==1.24.4 in /usr/local/lib/python3.11/dist-packages (1.24.4)\n"
          ]
        }
      ]
    },
    {
      "cell_type": "code",
      "source": [
        "import gensim.downloader as api\n",
        "import numpy as np\n",
        "\n",
        "model = api.load('glove-wiki-gigaword-100')\n"
      ],
      "metadata": {
        "id": "yb5UYyBspJDx",
        "colab": {
          "base_uri": "https://localhost:8080/"
        },
        "outputId": "bdffe796-08d5-4211-cce7-7f31c0891274"
      },
      "execution_count": 2,
      "outputs": [
        {
          "output_type": "stream",
          "name": "stdout",
          "text": [
            "[==================================================] 100.0% 128.1/128.1MB downloaded\n"
          ]
        }
      ]
    },
    {
      "cell_type": "code",
      "source": [
        "def predict_with_cbow(context_words):\n",
        "    vectors = [model[word] for word in context_words if word in model]\n",
        "    if not vectors:\n",
        "        return []\n",
        "    avg_vector = np.mean(vectors, axis=0)\n",
        "    return model.similar_by_vector(avg_vector, topn=5)\n",
        "\n",
        "# context = [\"the\", \"dog\", \"chased\", \"the\", \"in\", \"the\", \"park\"]\n",
        "context = [\"dog\", \"chased\"]\n",
        "predicted = predict_with_cbow(context)\n",
        "print(\"CBOW prediction:\", predicted)"
      ],
      "metadata": {
        "id": "LVBqXwZ9qa2r",
        "colab": {
          "base_uri": "https://localhost:8080/"
        },
        "outputId": "ae690708-aeeb-4c3d-f6da-8c039e29367c"
      },
      "execution_count": 5,
      "outputs": [
        {
          "output_type": "stream",
          "name": "stdout",
          "text": [
            "CBOW prediction: [('dog', 0.8589022755622864), ('dogs', 0.794186532497406), ('cat', 0.7691901326179504), ('chased', 0.7566422820091248), ('horse', 0.6756691336631775)]\n"
          ]
        }
      ]
    },
    {
      "cell_type": "code",
      "source": [
        "def predict_with_skipgram(center_word):\n",
        "    if center_word not in model:\n",
        "        return []\n",
        "    return model.most_similar(center_word, topn=5)\n",
        "\n",
        "predicted_context = predict_with_skipgram(\"chased\")\n",
        "print(\"Skip-Gram prediction:\", predicted_context)\n"
      ],
      "metadata": {
        "id": "8bmZkcA9piPn",
        "colab": {
          "base_uri": "https://localhost:8080/"
        },
        "outputId": "5ed0e713-a648-4f60-cbe9-928fba1b9e24"
      },
      "execution_count": 6,
      "outputs": [
        {
          "output_type": "stream",
          "name": "stdout",
          "text": [
            "Skip-Gram prediction: [('drove', 0.698556661605835), ('chasing', 0.6772391200065613), ('attacked', 0.6612698435783386), ('caught', 0.6565203666687012), ('robbed', 0.6549874544143677)]\n"
          ]
        }
      ]
    },
    {
      "cell_type": "code",
      "source": [],
      "metadata": {
        "id": "laN8QCN7pznl"
      },
      "execution_count": null,
      "outputs": []
    }
  ]
}