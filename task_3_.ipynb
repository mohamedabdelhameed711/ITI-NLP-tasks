{
  "nbformat": 4,
  "nbformat_minor": 0,
  "metadata": {
    "colab": {
      "private_outputs": true,
      "provenance": [],
      "authorship_tag": "ABX9TyNY9BwjB5IUprI6ooR8AK/2",
      "include_colab_link": true
    },
    "kernelspec": {
      "name": "python3",
      "display_name": "Python 3"
    },
    "language_info": {
      "name": "python"
    }
  },
  "cells": [
    {
      "cell_type": "markdown",
      "metadata": {
        "id": "view-in-github",
        "colab_type": "text"
      },
      "source": [
        "<a href=\"https://colab.research.google.com/github/mohamedabdelhameed711/ITI-NLP-tasks/blob/main/task_3_.ipynb\" target=\"_parent\"><img src=\"https://colab.research.google.com/assets/colab-badge.svg\" alt=\"Open In Colab\"/></a>"
      ]
    },
    {
      "cell_type": "code",
      "source": [
        "! pip install spacy datasets\n"
      ],
      "metadata": {
        "id": "Aqur8zR980ZG"
      },
      "execution_count": null,
      "outputs": []
    },
    {
      "cell_type": "code",
      "execution_count": null,
      "metadata": {
        "id": "hQtgtIoz8uTI"
      },
      "outputs": [],
      "source": [
        "from datasets import load_dataset\n",
        "import spacy\n",
        "from spacy.tokens import Doc, DocBin\n",
        "from datasets import load_dataset\n",
        "\n",
        "\n",
        "dataset = load_dataset(\"conll2003\", trust_remote_code=True)\n",
        "\n",
        "# Get NER tag names\n",
        "label_list = dataset[\"train\"].features[\"ner_tags\"].feature.names\n",
        "\n",
        "def create_spacy_docs(dataset_split, nlp):\n",
        "    doc_bin = DocBin()\n",
        "    for example in dataset_split:\n",
        "        tokens = example[\"tokens\"]\n",
        "        ner_tags = example[\"ner_tags\"]\n",
        "\n",
        "        # Create Doc from tokens\n",
        "        doc = Doc(nlp.vocab, words=tokens)\n",
        "        ents = []\n",
        "        i = 0\n",
        "        while i < len(ner_tags):\n",
        "            tag = label_list[ner_tags[i]]\n",
        "            if tag.startswith(\"B-\"):\n",
        "                start = i\n",
        "                ent_label = tag[2:]\n",
        "                i += 1\n",
        "                while i < len(ner_tags) and label_list[ner_tags[i]] == f\"I-{ent_label}\":\n",
        "                    i += 1\n",
        "                end = i\n",
        "                span = doc.char_span(doc[start].idx, doc[end - 1].idx + len(doc[end - 1]), label=ent_label, alignment_mode=\"expand\")\n",
        "                if span:\n",
        "                    ents.append(span)\n",
        "            else:\n",
        "                i += 1\n",
        "        doc.ents = ents\n",
        "        doc_bin.add(doc)\n",
        "    return doc_bin\n",
        "\n",
        "\n",
        "nlp = spacy.blank(\"en\")\n",
        "\n",
        "create_spacy_docs(dataset[\"train\"], nlp).to_disk(\"train.spacy\")\n",
        "create_spacy_docs(dataset[\"validation\"], nlp).to_disk(\"dev.spacy\")\n"
      ]
    },
    {
      "cell_type": "code",
      "source": [
        "!python -m spacy train config.cfg --output ./output --paths.train ./train.spacy --paths.dev ./dev.spacy\n"
      ],
      "metadata": {
        "id": "RLiGWTDy87jk"
      },
      "execution_count": null,
      "outputs": []
    },
    {
      "cell_type": "code",
      "source": [
        "! python -m spacy debug config config.cfg"
      ],
      "metadata": {
        "id": "DVovkEng_Ik-"
      },
      "execution_count": null,
      "outputs": []
    },
    {
      "cell_type": "code",
      "source": [
        "! python -m spacy init fill-config config.cfg config.cfg\n"
      ],
      "metadata": {
        "id": "jhFg8YSVC3I3"
      },
      "execution_count": null,
      "outputs": []
    },
    {
      "cell_type": "code",
      "source": [
        "!python -m spacy train config.cfg --output ./output --paths.train ./train.spacy --paths.dev ./dev.spacy\n"
      ],
      "metadata": {
        "id": "1Ym1_RY7C-S8"
      },
      "execution_count": null,
      "outputs": []
    },
    {
      "cell_type": "code",
      "source": [
        "import spacy\n",
        "\n",
        "nlp = spacy.load(\"output/model-best\")\n",
        "doc = nlp(\"Barack Obama visited Berlin in 2008.\")\n",
        "print([(ent.text, ent.label_) for ent in doc.ents])\n"
      ],
      "metadata": {
        "id": "Bl9pcexADDWT"
      },
      "execution_count": null,
      "outputs": []
    },
    {
      "cell_type": "code",
      "source": [],
      "metadata": {
        "id": "BXH-yxt4JaOi"
      },
      "execution_count": null,
      "outputs": []
    }
  ]
}