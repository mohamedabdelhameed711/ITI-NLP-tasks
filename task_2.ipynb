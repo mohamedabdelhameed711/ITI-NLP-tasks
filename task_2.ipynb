{
  "nbformat": 4,
  "nbformat_minor": 0,
  "metadata": {
    "colab": {
      "private_outputs": true,
      "provenance": [],
      "authorship_tag": "ABX9TyNC/+coIk6AYmqHtPVZ7GfU",
      "include_colab_link": true
    },
    "kernelspec": {
      "name": "python3",
      "display_name": "Python 3"
    },
    "language_info": {
      "name": "python"
    }
  },
  "cells": [
    {
      "cell_type": "markdown",
      "metadata": {
        "id": "view-in-github",
        "colab_type": "text"
      },
      "source": [
        "<a href=\"https://colab.research.google.com/github/mohamedabdelhameed711/ITI-NLP-tasks/blob/main/task_2.ipynb\" target=\"_parent\"><img src=\"https://colab.research.google.com/assets/colab-badge.svg\" alt=\"Open In Colab\"/></a>"
      ]
    },
    {
      "cell_type": "code",
      "execution_count": null,
      "metadata": {
        "id": "GttuKWyYnCdG"
      },
      "outputs": [],
      "source": [
        "! pip install gensim\n"
      ]
    },
    {
      "cell_type": "code",
      "source": [
        "! pip uninstall numpy -y\n"
      ],
      "metadata": {
        "id": "qzNvmC19nEld"
      },
      "execution_count": null,
      "outputs": []
    },
    {
      "cell_type": "code",
      "source": [
        "! pip install numpy==1.24.4\n"
      ],
      "metadata": {
        "id": "3Rvz_ERLnEil"
      },
      "execution_count": null,
      "outputs": []
    },
    {
      "cell_type": "code",
      "source": [
        "import gensim.downloader as api\n",
        "import numpy as np\n",
        "\n",
        "model = api.load('glove-wiki-gigaword-100')\n"
      ],
      "metadata": {
        "id": "yb5UYyBspJDx"
      },
      "execution_count": null,
      "outputs": []
    },
    {
      "cell_type": "code",
      "source": [
        "def predict_with_cbow(context_words):\n",
        "    vectors = [model[word] for word in context_words if word in model]\n",
        "    if not vectors:\n",
        "        return []\n",
        "    avg_vector = np.mean(vectors, axis=0)\n",
        "    return model.similar_by_vector(avg_vector, topn=5)\n",
        "\n",
        "context = [\"the\", \"sat\", \"on\", \"the\", \"mat\"]\n",
        "predicted = predict_with_cbow(context)\n",
        "print(\"CBOW prediction:\", predicted)"
      ],
      "metadata": {
        "id": "LVBqXwZ9qa2r"
      },
      "execution_count": null,
      "outputs": []
    },
    {
      "cell_type": "code",
      "source": [
        "def predict_with_skipgram(center_word):\n",
        "    if center_word not in model:\n",
        "        return []\n",
        "    return model.most_similar(center_word, topn=5)\n",
        "\n",
        "predicted_context = predict_with_skipgram(\"sat\")\n",
        "print(\"Skip-Gram prediction:\", predicted_context)\n"
      ],
      "metadata": {
        "id": "8bmZkcA9piPn"
      },
      "execution_count": null,
      "outputs": []
    },
    {
      "cell_type": "code",
      "source": [],
      "metadata": {
        "id": "laN8QCN7pznl"
      },
      "execution_count": null,
      "outputs": []
    }
  ]
}