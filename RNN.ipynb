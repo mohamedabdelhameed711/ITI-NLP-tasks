{
 "cells": [
  {
   "cell_type": "markdown",
   "id": "9fa57d4c",
   "metadata": {
    "id": "9fa57d4c"
   },
   "source": [
    "# RNN  "
   ]
  },
  {
   "cell_type": "code",
   "execution_count": 74,
   "id": "0aa69252",
   "metadata": {
    "id": "0aa69252"
   },
   "outputs": [],
   "source": [
    "import torch\n",
    "import torch.nn as nn\n",
    "import torch.nn.functional as F\n",
    "import torchvision\n",
    "from torchvision import transforms\n",
    "\n",
    "from torch.utils.data import Dataset, DataLoader\n",
    "\n",
    "from tqdm.autonotebook import tqdm\n",
    "\n",
    "import numpy as np\n",
    "import seaborn as sns\n",
    "import matplotlib.pyplot as plt\n",
    "from matplotlib.pyplot import imshow\n",
    "import pandas as pd\n",
    "from sklearn.metrics import accuracy_score\n",
    "import time"
   ]
  },
  {
   "cell_type": "code",
   "execution_count": 75,
   "id": "cc41d9bf",
   "metadata": {
    "id": "cc41d9bf"
   },
   "outputs": [],
   "source": [
    "D = 28*28\n",
    "n = 256\n",
    "C = 1\n",
    "\n",
    "classes = 10\n",
    "\n",
    "model_regular = nn.Sequential(\n",
    "    nn.Flatten(),\n",
    "    nn.Linear(D, n),\n",
    "    nn.Tanh(),\n",
    "    nn.Linear(n, n),\n",
    "    nn.Tanh(),\n",
    "    nn.Linear(n, n),\n",
    "    nn.Tanh(),\n",
    "    nn.Linear(n, classes),\n",
    ")"
   ]
  },
  {
   "cell_type": "code",
   "execution_count": 76,
   "id": "a245bba3",
   "metadata": {
    "id": "a245bba3"
   },
   "outputs": [],
   "source": [
    "h_2 = nn.Linear(n, n)\n",
    "\n",
    "model_shared = nn.Sequential(\n",
    "    nn.Flatten(),\n",
    "    nn.Linear(D, n),\n",
    "    nn.Tanh(), h_2,\n",
    "    nn.Tanh(), h_2,\n",
    "    nn.Tanh(),\n",
    "    nn.Linear(n, classes),\n",
    ")"
   ]
  },
  {
   "cell_type": "markdown",
   "id": "9e66de7e",
   "metadata": {
    "id": "9e66de7e"
   },
   "source": [
    "# Lets build an RNN network"
   ]
  },
  {
   "cell_type": "code",
   "execution_count": 77,
   "id": "28d2cf3e",
   "metadata": {
    "id": "28d2cf3e"
   },
   "outputs": [],
   "source": [
    "zip_file_url = \"https://download.pytorch.org/tutorial/data.zip\"\n",
    "\n",
    "import requests, zipfile, io\n",
    "r = requests.get(zip_file_url)\n",
    "z = zipfile.ZipFile(io.BytesIO(r.content))\n",
    "z.extractall()"
   ]
  },
  {
   "cell_type": "code",
   "execution_count": 78,
   "id": "3a517d0f",
   "metadata": {
    "colab": {
     "base_uri": "https://localhost:8080/"
    },
    "id": "3a517d0f",
    "outputId": "fedfe38f-8335-4c4f-e31c-94a93c24e1e0"
   },
   "outputs": [
    {
     "name": "stdout",
     "output_type": "stream",
     "text": [
      "Arabic :  2000\n",
      "Chinese :  268\n",
      "Czech :  519\n",
      "Dutch :  297\n",
      "English :  3668\n",
      "French :  277\n",
      "German :  724\n",
      "Greek :  203\n",
      "Irish :  232\n",
      "Italian :  709\n",
      "Japanese :  991\n",
      "Korean :  94\n",
      "Polish :  139\n",
      "Portuguese :  74\n",
      "Russian :  9408\n",
      "Scottish :  100\n",
      "Spanish :  298\n",
      "Vietnamese :  73\n"
     ]
    }
   ],
   "source": [
    "namge_language_data = {}\n",
    "\n",
    "#We will use some code to remove UNICODE tokens to make life easy for us processing wise\n",
    "#e.g., convert something like \"Ślusàrski\" to Slusarski\n",
    "import unicodedata\n",
    "import string\n",
    "\n",
    "all_letters = string.ascii_letters + \" .,;'\"\n",
    "n_letters = len(all_letters)\n",
    "alphabet = {}\n",
    "for i in range(n_letters):\n",
    "    alphabet[all_letters[i]] = i\n",
    "\n",
    "# Turn a Unicode string to plain ASCII, thanks to https://stackoverflow.com/a/518232/2809427\n",
    "def unicodeToAscii(s):\n",
    "    return ''.join(\n",
    "        c for c in unicodedata.normalize('NFD', s)\n",
    "        if unicodedata.category(c) != 'Mn'\n",
    "        and c in all_letters\n",
    "    )\n",
    "\n",
    "#Loop through every language, open the zip file entry, and read all the lines from the text file.\n",
    "for zip_path in z.namelist():\n",
    "    if \"data/names/\" in zip_path and zip_path.endswith(\".txt\"):\n",
    "        lang = zip_path[len(\"data/names/\"):-len(\".txt\")]\n",
    "        with z.open(zip_path) as myfile:\n",
    "            lang_names = [unicodeToAscii(line).lower() for line in str(myfile.read(), encoding='utf-8').strip().split(\"\\n\")]\n",
    "            namge_language_data[lang] = lang_names\n",
    "        print(lang, \": \", len(lang_names)) #Print out the name of each language too.\n"
   ]
  },
  {
   "cell_type": "code",
   "execution_count": 79,
   "id": "cca327b6",
   "metadata": {
    "colab": {
     "base_uri": "https://localhost:8080/"
    },
    "id": "cca327b6",
    "outputId": "082b3b34-6341-41e5-9fc8-bc8fe620df6f"
   },
   "outputs": [
    {
     "data": {
      "text/plain": [
       "dict_keys(['Arabic', 'Chinese', 'Czech', 'Dutch', 'English', 'French', 'German', 'Greek', 'Irish', 'Italian', 'Japanese', 'Korean', 'Polish', 'Portuguese', 'Russian', 'Scottish', 'Spanish', 'Vietnamese'])"
      ]
     },
     "execution_count": 79,
     "metadata": {},
     "output_type": "execute_result"
    }
   ],
   "source": [
    "namge_language_data.keys()"
   ]
  },
  {
   "cell_type": "code",
   "execution_count": 80,
   "id": "819596d3",
   "metadata": {
    "colab": {
     "base_uri": "https://localhost:8080/"
    },
    "id": "819596d3",
    "outputId": "4e7260c8-92cf-4a5f-869e-6d63a92ec673"
   },
   "outputs": [
    {
     "name": "stdout",
     "output_type": "stream",
     "text": [
      "First 10 Arabic names in the dataset:\n",
      "1. khoury\n",
      "2. nahas\n",
      "3. daher\n",
      "4. gerges\n",
      "5. nazari\n",
      "6. maalouf\n",
      "7. gerges\n",
      "8. naifeh\n",
      "9. guirguis\n",
      "10. baba\n"
     ]
    }
   ],
   "source": [
    "# Show the first 10 Arabic names in the dataset\n",
    "print(\"First 10 Arabic names in the dataset:\")\n",
    "for i, name in enumerate(namge_language_data[\"Arabic\"][:10], 1):\n",
    "    print(f\"{i}. {name}\")"
   ]
  },
  {
   "cell_type": "code",
   "execution_count": 81,
   "id": "xHBDcteHJCUw",
   "metadata": {
    "id": "xHBDcteHJCUw"
   },
   "outputs": [],
   "source": [
    "class LanguageNameDataset(Dataset):\n",
    "    '''\n",
    "    self.label_names becomes ['English', 'Spanish', 'Japanese']\n",
    "    self.data becomes ['Smith', 'Johnson', 'Williams', 'Garcia', 'Rodriguez', 'Lopez', 'Tanaka', 'Suzuki', 'Sato']\n",
    "    self.labels becomes [0, 0, 0, 1, 1, 1, 2, 2, 2] (0 for English, 1 for Spanish, 2 for Japanese)\n",
    "\n",
    "    Now, let's see what happens when we access a specific item, for example dataset[4]:\n",
    "\n",
    "    The __getitem__ method is called with idx=4\n",
    "    It retrieves name = self.data[4] which is 'Rodriguez'\n",
    "    It retrieves label = self.labels[4] which is 1 (Spanish)\n",
    "    It calls self.string2InputVec('Rodriguez') which does the following:\n",
    "\n",
    "    Creates a tensor of zeros with length 9 (number of characters in \"Rodriguez\")\n",
    "    For each character, it replaces the zeros with the corresponding integer from the vocabulary:\n",
    "\n",
    "    'R' → 44\n",
    "    'o' → 15\n",
    "    'd' → 4\n",
    "    'r' → 18\n",
    "    'i' → 9\n",
    "    'g' → 7\n",
    "    'u' → 21\n",
    "    'e' → 5\n",
    "    'z' → 26\n",
    "\n",
    "\n",
    "    This creates the tensor: tensor([44, 15, 4, 18, 9, 7, 21, 5, 26])\n",
    "\n",
    "\n",
    "    It converts the label 1 to a tensor: tensor([1])\n",
    "    It returns the tuple: (tensor([44, 15, 4, 18, 9, 7, 21, 5, 26]), tensor([1]))\n",
    "    '''\n",
    "\n",
    "    def __init__(self, lang_name_dict, vocabulary):\n",
    "        self.label_names = [x for x in lang_name_dict.keys()]\n",
    "        self.data = []\n",
    "        self.labels = []\n",
    "        self.vocabulary = vocabulary\n",
    "        for y, language in enumerate(self.label_names):\n",
    "            for sample in lang_name_dict[language]:\n",
    "                self.data.append(sample)\n",
    "                self.labels.append(y)\n",
    "\n",
    "    def __len__(self):\n",
    "        return len(self.data)\n",
    "\n",
    "    def string2InputVec(self, input_string):\n",
    "        \"\"\"\n",
    "        This method will convert any input string into a vector of long values, according to the vocabulary used by this object.\n",
    "        input_string: the string to convert to a tensor\n",
    "        \"\"\"\n",
    "        T = len(input_string) #How many characters long is the string?\n",
    "\n",
    "        #Create a new tensor to store the result in\n",
    "        name_vec = torch.zeros((T), dtype=torch.long)\n",
    "        #iterate through the string and place the appropriate values into the tensor\n",
    "        for pos, character in enumerate(input_string):\n",
    "            name_vec[pos] = self.vocabulary[character]\n",
    "\n",
    "        return name_vec\n",
    "\n",
    "    def __getitem__(self, idx):\n",
    "        name = self.data[idx]\n",
    "        label = self.labels[idx]\n",
    "\n",
    "        # Convert the correct class label into a tensor for PyTorch\n",
    "        label_vec = torch.tensor([label], dtype=torch.long)\n",
    "\n",
    "        return self.string2InputVec(name), label\n"
   ]
  },
  {
   "cell_type": "code",
   "execution_count": 82,
   "id": "yaDnpHiRMRsK",
   "metadata": {
    "id": "yaDnpHiRMRsK"
   },
   "outputs": [],
   "source": [
    "from torch.nn.utils.rnn import pad_sequence\n",
    "\n",
    "def collate_fn(batch):\n",
    "    \"\"\"\n",
    "    Custom collate function to pad sequences in a batch.\n",
    "    Assumes `batch` is a list of (input_tensor, label) pairs,\n",
    "    where input_tensor is a 1D or 2D tensor, and label is an int or tensor.\n",
    "    \"\"\"\n",
    "    inputs, labels = zip(*batch)\n",
    "\n",
    "    # Pad the input sequences to the same length\n",
    "    padded_inputs = pad_sequence(inputs, batch_first=True, padding_value=0)\n",
    "\n",
    "    # Convert labels to tensors if they are ints\n",
    "    labels = [torch.tensor(label, dtype=torch.long) if not isinstance(label, torch.Tensor) else label for label in labels]\n",
    "\n",
    "    # Stack labels into a tensor\n",
    "    labels = torch.stack(labels)\n",
    "\n",
    "    return padded_inputs, labels\n"
   ]
  },
  {
   "cell_type": "code",
   "execution_count": 83,
   "id": "PAtye9fQJCUw",
   "metadata": {
    "id": "PAtye9fQJCUw"
   },
   "outputs": [],
   "source": [
    "dataset = LanguageNameDataset(namge_language_data, alphabet)\n",
    "\n",
    "train_data, test_data = torch.utils.data.random_split(dataset, (len(dataset)-300, 300))\n",
    "\n",
    "# train_loader = DataLoader(train_data, batch_size=1, shuffle=True)\n",
    "# test_loader = DataLoader(test_data, batch_size=1, shuffle=False)\n",
    "\n",
    "# Update DataLoader to use the custom collate function\n",
    "train_loader = DataLoader(train_data, batch_size=32, shuffle=True, collate_fn=collate_fn)\n",
    "test_loader = DataLoader(test_data, batch_size=32, shuffle=False, collate_fn=collate_fn)"
   ]
  },
  {
   "cell_type": "code",
   "execution_count": 84,
   "id": "14613ff1",
   "metadata": {
    "colab": {
     "base_uri": "https://localhost:8080/"
    },
    "id": "14613ff1",
    "outputId": "e80686a3-f200-435a-a81d-5d37588eeb8e"
   },
   "outputs": [
    {
     "name": "stdout",
     "output_type": "stream",
     "text": [
      "torch.Size([5]) torch.Size([5, 2])\n",
      "tensor([[ 0.1465,  0.1401],\n",
      "        [ 0.8522,  1.5924],\n",
      "        [ 0.8522,  1.5924],\n",
      "        [ 0.1465,  0.1401],\n",
      "        [-1.3381,  1.3987]])\n"
     ]
    }
   ],
   "source": [
    "# example of embedding\n",
    "# ammae\n",
    "'input sequence with T = 5 items but a vocabulary of only 3 items'\n",
    "with torch.no_grad():\n",
    "    input_sequence = torch.tensor([0, 1, 1, 0, 2], dtype=torch.long)\n",
    "    embd = nn.Embedding(3, 2)\n",
    "    x_seq = embd(input_sequence)\n",
    "    print(input_sequence.shape, x_seq.shape)\n",
    "    print(x_seq)"
   ]
  },
  {
   "cell_type": "code",
   "execution_count": 85,
   "id": "a9f0cfbf",
   "metadata": {
    "id": "a9f0cfbf"
   },
   "outputs": [],
   "source": [
    "class LastTimeStep(nn.Module):\n",
    "    \"\"\"\n",
    "    A class for extracting the hidden activations of the last time step following\n",
    "    the output of a PyTorch RNN module.\n",
    "    it extracts the final hidden state from the RNN,\n",
    "    which contains the model's \"understanding\" of the entire name sequence\n",
    "    \"\"\"\n",
    "    def __init__(self, rnn_layers=1, bidirectional=False):\n",
    "        super(LastTimeStep, self).__init__()\n",
    "        self.rnn_layers = rnn_layers\n",
    "        if bidirectional:\n",
    "            self.num_driections = 2\n",
    "        else:\n",
    "            self.num_driections = 1\n",
    "\n",
    "    def forward(self, input):\n",
    "        #Result is either a tuple (out, h_t)\n",
    "        #or a tuple (out, (h_t, c_t))\n",
    "        rnn_output = input[0]\n",
    "        last_step = input[1] #this will be h_t\n",
    "        if(type(last_step) == tuple): # unless it's a tuple,\n",
    "            last_step = last_step[0] # then h_t is the first item in the tuple\n",
    "        batch_size = last_step.shape[1] # per docs, shape is: '(num_layers * num_directions, batch, hidden_size)'\n",
    "        # reshaping so that everything is separate\n",
    "        last_step = last_step.view(self.rnn_layers, self.num_driections, batch_size, -1)\n",
    "        # We want the last layer's results\n",
    "        last_step = last_step[self.rnn_layers-1]\n",
    "        # Re order so batch comes first\n",
    "        last_step = last_step.permute(1, 0, 2)\n",
    "        # Finally, flatten the last two dimensions into one\n",
    "        return last_step.reshape(batch_size, -1)\n",
    "\n"
   ]
  },
  {
   "cell_type": "code",
   "execution_count": 86,
   "id": "e3fdebd0",
   "metadata": {
    "id": "e3fdebd0"
   },
   "outputs": [],
   "source": [
    "D = 64\n",
    "vocab_size = len(all_letters)\n",
    "hidden_nodes = 256\n",
    "classes = len(dataset.label_names)\n",
    "\n",
    "first_rnn = nn.Sequential(\n",
    "  nn.Embedding(vocab_size, D), #(B, T) -> (B, T, D)\n",
    "  nn.RNN(D, hidden_nodes, batch_first=True), #(B, T, D) -> ( (B,T,D) , (S, B, D)  )\n",
    "  # the tanh activation is built into the RNN object, so we don't need to do it here\n",
    "  LastTimeStep(), # We need to take the RNN output and reduce it to one item, (B, D)\n",
    "  nn.Linear(hidden_nodes, classes), #(B, D) -> (B, classes)\n",
    ")\n"
   ]
  },
  {
   "cell_type": "code",
   "execution_count": 87,
   "id": "d05214f0",
   "metadata": {
    "id": "d05214f0"
   },
   "outputs": [],
   "source": [
    "def moveTo(obj, device):\n",
    "    \"\"\"\n",
    "    obj: the python object to move to a device, or to move its contents to a device\n",
    "    device: the compute device to move objects to\n",
    "    \"\"\"\n",
    "    if hasattr(obj, \"to\"):\n",
    "        return obj.to(device)\n",
    "    elif isinstance(obj, list):\n",
    "        return [moveTo(x, device) for x in obj]\n",
    "    elif isinstance(obj, tuple):\n",
    "        return tuple(moveTo(list(obj), device))\n",
    "    elif isinstance(obj, set):\n",
    "        return set(moveTo(list(obj), device))\n",
    "    elif isinstance(obj, dict):\n",
    "        to_ret = dict()\n",
    "        for key, value in obj.items():\n",
    "            to_ret[moveTo(key, device)] = moveTo(value, device)\n",
    "        return to_ret\n",
    "    else:\n",
    "        return obj\n",
    "\n",
    "def run_epoch(model, optimizer, data_loader, loss_func, device, results, score_funcs, prefix=\"\", desc=None):\n",
    "    \"\"\"\n",
    "    model -- the PyTorch model / \"Module\" to run for one epoch\n",
    "    optimizer -- the object that will update the weights of the network\n",
    "    data_loader -- DataLoader object that returns tuples of (input, label) pairs.\n",
    "    loss_func -- the loss function that takes in two arguments, the model outputs and the labels, and returns a score\n",
    "    device -- the compute lodation to perform training\n",
    "    score_funcs -- a dictionary of scoring functions to use to evalue the performance of the model\n",
    "    prefix -- a string to pre-fix to any scores placed into the _results_ dictionary.\n",
    "    desc -- a description to use for the progress bar.\n",
    "    \"\"\"\n",
    "    running_loss = []\n",
    "    y_true = []\n",
    "    y_pred = []\n",
    "    start = time.time()\n",
    "    for inputs, labels in tqdm(data_loader, desc=desc, leave=False):\n",
    "        #Move the batch to the device we are using.\n",
    "        inputs = moveTo(inputs, device)\n",
    "        labels = moveTo(labels, device)\n",
    "\n",
    "        y_hat = model(inputs) #this just computed f_Θ(x(i))\n",
    "        # Compute loss.\n",
    "        loss = loss_func(y_hat, labels)\n",
    "\n",
    "        if model.training:\n",
    "            loss.backward()\n",
    "            optimizer.step()\n",
    "            optimizer.zero_grad()\n",
    "\n",
    "        #Now we are just grabbing some information we would like to have\n",
    "        running_loss.append(loss.item())\n",
    "\n",
    "        if len(score_funcs) > 0 and isinstance(labels, torch.Tensor):\n",
    "            #moving labels & predictions back to CPU for computing / storing predictions\n",
    "            labels = labels.detach().cpu().numpy()\n",
    "            y_hat = y_hat.detach().cpu().numpy()\n",
    "            #add to predictions so far\n",
    "            y_true.extend(labels.tolist())\n",
    "            y_pred.extend(y_hat.tolist())\n",
    "    #end training epoch\n",
    "    end = time.time()\n",
    "\n",
    "    y_pred = np.asarray(y_pred)\n",
    "    if len(y_pred.shape) == 2 and y_pred.shape[1] > 1: #We have a classification problem, convert to labels\n",
    "        y_pred = np.argmax(y_pred, axis=1)\n",
    "    #Else, we assume we are working on a regression problem\n",
    "\n",
    "    results[prefix + \" loss\"].append( np.mean(running_loss) )\n",
    "    for name, score_func in score_funcs.items():\n",
    "        try:\n",
    "            results[prefix + \" \" + name].append( score_func(y_true, y_pred) )\n",
    "        except:\n",
    "            results[prefix + \" \" + name].append(float(\"NaN\"))\n",
    "    return end-start #time spent on epoch\n",
    "\n",
    "def train_simple_network(model, loss_func, train_loader, test_loader=None, score_funcs=None,\n",
    "                         epochs=50, device=\"cpu\", checkpoint_file=None, lr=0.001):\n",
    "    \"\"\"Train simple neural networks\n",
    "\n",
    "    Keyword arguments:\n",
    "    model -- the PyTorch model / \"Module\" to train\n",
    "    loss_func -- the loss function that takes in batch in two arguments, the model outputs and the labels, and returns a score\n",
    "    train_loader -- PyTorch DataLoader object that returns tuples of (input, label) pairs.\n",
    "    test_loader -- Optional PyTorch DataLoader to evaluate on after every epoch\n",
    "    score_funcs -- A dictionary of scoring functions to use to evalue the performance of the model\n",
    "    epochs -- the number of training epochs to perform\n",
    "    device -- the compute lodation to perform training\n",
    "\n",
    "    \"\"\"\n",
    "    to_track = [\"epoch\", \"total time\", \"train loss\"]\n",
    "    if test_loader is not None:\n",
    "        to_track.append(\"test loss\")\n",
    "    for eval_score in score_funcs:\n",
    "        to_track.append(\"train \" + eval_score )\n",
    "        if test_loader is not None:\n",
    "            to_track.append(\"test \" + eval_score )\n",
    "\n",
    "    total_train_time = 0 #How long have we spent in the training loop?\n",
    "    results = {}\n",
    "    #Initialize every item with an empty list\n",
    "    for item in to_track:\n",
    "        results[item] = []\n",
    "\n",
    "    #SGD is Stochastic Gradient Decent.\n",
    "    optimizer = torch.optim.SGD(model.parameters(), lr=0.001)\n",
    "    #Place the model on the correct compute resource (CPU or GPU)\n",
    "    model.to(device)\n",
    "    for epoch in tqdm(range(epochs), desc=\"Epoch\"):\n",
    "        model = model.train()#Put our model in training mode\n",
    "\n",
    "        total_train_time += run_epoch(model, optimizer, train_loader, loss_func, device, results, score_funcs, prefix=\"train\", desc=\"Training\")\n",
    "\n",
    "        results[\"total time\"].append( total_train_time )\n",
    "        results[\"epoch\"].append( epoch )\n",
    "\n",
    "        if test_loader is not None:\n",
    "            model = model.eval()\n",
    "            with torch.no_grad():\n",
    "                run_epoch(model, optimizer, test_loader, loss_func, device, results, score_funcs, prefix=\"test\", desc=\"Testing\")\n",
    "\n",
    "    if checkpoint_file is not None:\n",
    "        torch.save({\n",
    "            'epoch': epoch,\n",
    "            'model_state_dict': model.state_dict(),\n",
    "            'optimizer_state_dict': optimizer.state_dict(),\n",
    "            'results' : results\n",
    "            }, checkpoint_file)\n",
    "\n",
    "    return pd.DataFrame.from_dict(results)"
   ]
  },
  {
   "cell_type": "code",
   "execution_count": 88,
   "id": "6381f6ca",
   "metadata": {
    "colab": {
     "base_uri": "https://localhost:8080/",
     "height": 49,
     "referenced_widgets": [
      "74b4324775be4ebb8b4ee64f275c7fe5",
      "2ffaef881bbd4984b46da65a391494c5",
      "bcb151e55bce4a93898f4100d5237f04",
      "1ecb3f731ce942f880d0a04e4324361b",
      "ede77af367264bd1be40f74282ffbd68",
      "182b2cc2bfc047268c2ec80384bb7fe6",
      "0e18de1ca1df460ca5beb453e1355e98",
      "c4b2d56faad3479cb7da997503bca543",
      "d8a9eaea539243d6a333177e05286ae3",
      "e1566df4f75742aaad76f88afed75261",
      "de8255029e9e4e7caf95084fb980c9c6",
      "f0bcf8cb663d42969568ab365d1e5237",
      "68f789d9bcb04909943a69b5847d379f",
      "f29a67c0ed994942ae6c6eda6a7e080c",
      "64cd160dd98b47daa1fcbd80599f1129",
      "617e22c2ca05417289dfe5dcce563c94",
      "2ef0e8fdcc3549a6be775ccd72eb59ee",
      "1c2d0e6f754c45338ecb8e8c3ccd6577",
      "1318ef415df44044aff6e98db23495ac",
      "41c2f8770ec141ffb02dc026634c975e",
      "dbb321d448694cd4bc7cdf9e944d6cea",
      "912bac1607aa451bbd95fe0e2d44034d",
      "d30ba46534444cda92543da679517dc1",
      "0695e199c1e646aea39ef8cb0adaf25a",
      "d65f45567c9d4bbcafb01d6da7817fb4",
      "0d41dcc9807045b38767ecde1b6b28d4",
      "33a2be8e108b4d188e91c050f562d2fa",
      "61990764ecaf474bbcd564efd69e5f05",
      "8cd12b94acfa4fbb8e79225bce9c848f",
      "e73123b3776f442f9bc72f3ed96061fd",
      "dff43e1e80bc4f4091eb4f01ce5dad39",
      "377da873904e47d69276268a24ce23e7",
      "16323957a14a4105b5ecbd10234e10d8",
      "a61c07e2a6404762bdb57f957f4d9890",
      "e3e152561e464d238a4957eaf8320218",
      "9101b5f033d74428ab17ae46dd1309bf",
      "f4ba51d821d94a56934815d6f141e008",
      "dcd915f040ab4ce0a973cc6f2c6c7406",
      "774a517ab2ce42f3af278016ced58914",
      "eb6928da3e9544478b6b95cbb662dce5",
      "1196314fe240422f98fb05c9ab7250da",
      "2b3e94e9cc1248039b8019d5927877a0",
      "4314a95b3e874f6bbdbd0f7aba747638",
      "af7dc6996ae1472190030916ad3eac7f",
      "4565079984df47a7bad8f9c8140561a6",
      "8c132aedd5d54aacaef9065ba4deb6d6",
      "ed6453d710b245f7aa079da404acef97",
      "3283ecf5fe124634ba3e9c8a92c13bfa",
      "cc7c3a8a22dd42b3acf7000ec71d69c0",
      "14372297696e4ff28999710341878c10",
      "59120b868bf346de8ec6c0f7bb5558d8",
      "ce4da6dda9a34ffdb92449b95f8372b0",
      "06d74b17ea2645ffaa1fe236887f7a7c",
      "f7eddc6fec04494d92ce7042e0099e84",
      "2e34ecced4dc4753b42a22bdf16f4c37",
      "179cd38d3c29482b9a56bc6b35234e1a",
      "a85ed2e5b5f84cefb40b78afa13b5527",
      "e52b4c1feb274f8ca97a16349d8b71a5",
      "bd4dc68f84644ec4a5eb5d2346a9d408",
      "01ceb5a53ae043e4bb86f702a8ea2832",
      "9681ad1103b947b386be03684a7de24c",
      "422badbedf0f46ebb8f382d7f7d8d287",
      "595fef6c1c2a4371b588ad3beaf92461",
      "4007105850c141a4b88783dc68770443",
      "eb6fc0bb5a0a4eedaa0a7d32cb23d4e7",
      "f815b6c39e9149218235fdececa54953",
      "843a297dbf074b40aaf3fd1ff32bed23",
      "207f5aaeba164510a1edef0bb1d07c8b",
      "e47a60db8b174dd08bedb0ff2cd045d2",
      "730def2fee50409e8120413d9682086d",
      "55b03984bc5d46d1a0283d09313373a2",
      "821be16a8f67419e8ab27beb6080a448",
      "e92f03e442814d58a96cb0a28c299726",
      "f827c26fc0924e7a991f6770fd9d9392",
      "a7c4d9e855c34d758fd8d6aef24ecc18",
      "e77030fa506d4cbba8fbf7daf6723048",
      "6aac4a8458a2441dae49de756302cfa7",
      "7e9e3e27c6b14be48a9035eb0c593ec4",
      "52b50ba6305c4b7c85fc4bfc5314e5a9",
      "6d24d117f87543f78ede6f632ceecc87",
      "13f3efefdeb543939bc99e0443243572",
      "d348591eb7644e1184a93c65c4d136b1",
      "0e0886734b1e43689fe02407e722f4b3",
      "5315eb8d20e94505bac11d0f9fb99785",
      "05d7c7a5980f4032a8510ae9664b65ef",
      "93232896853c42d9a2d42af09d4ed22c",
      "da0f11627b934c78bf55fd6d63e05f7c",
      "b790dd4d14a84ae1ad2a608508beb206",
      "ed70cd306acd46d9b4ab2894e5989a90",
      "c7327e450e344b42a409c2e0277e56c6",
      "89f79aa0cbec42bda48990106b13e53a",
      "0bc7f7e05a594b4d821bbc3a703e9f06",
      "ce96ef1052a44a7dbd290ff6a58bd914",
      "c5070e661c144831b174b7db92b0f6e5",
      "0dacc099ed5e4e3687a6706c6474aa7e",
      "6dd2eb8978064344982a50c096a30580",
      "5abfe012f5d14ce491a28c1e6e46d210",
      "6ccfed5cd03844398da8a7918745f8fc",
      "95bd6bb6ef1047ff90600bf4d6e3ef9c",
      "1b17cec95f444789a38f30ce363ae64a",
      "f4f029d85f414e89bd1b312650b94b39",
      "2cf70796e3ac41238ad79db209ae3d2a",
      "3f72a901ac3a461aa1a487f7513e6690",
      "20257ea0d2504a549c9ba360d5f38d30",
      "d74ca4515ae94d1ba769848336f5295f",
      "22911bdb7fd649f29b3df0a8de3bc41a",
      "40691cc63b08421fa37b67bf9158453c",
      "5fd81ad2fe054857ac3b3bf49d753e49",
      "f6f8f40d40f04be890f9da12eb8f5e4e",
      "fa54e134a5e54b028bfa628d53417f63",
      "4fcd4580fab4439dbe968c9cac720d6b",
      "7d364ada52be415c9c72031727fb0933",
      "1d940d60acfd4115901a5fb46de2cb32",
      "ee2e8f8258bb4a5f9e199ad3e21f27dc",
      "95103e8e5bc3423983a72c17aa440c61",
      "b0b45c2cadcb4bc59d9d78fc407932ce",
      "c87a32f06bdb45c480f7ec48aecc07f4",
      "ba7b58a77eb84923b7bd0e4a78aadfe3",
      "1fd80e3e96b44f278ceaa219a8fcc41c",
      "5566cf0b74a64e9bb66762f58addd1be",
      "3017ebdbb99341db89abfdf7e190f1f9",
      "3479aca258de49c6836a8a962540c1f2",
      "dc1139e8dd9c425aa4bdfe3e754e33b2",
      "93efe07c3e004d7f917a74d94b467a6f",
      "924e258990ef40a397937b1ac1b7abe5",
      "6ea1b8f2882d46bd9045237294dfb7d8",
      "31cb89bb94954c0f9bb66a94beda23ce",
      "dc307df79b924a1e863369dc35c73dc6",
      "f4b6ef1ff9ee4d9e8020a36ee074459b",
      "31350e2fb0434816af5460dfefd5532e",
      "36dfe389cce94ae883d2c72403dcc3ac",
      "50ad62db52cb4e068133f7618d15a195",
      "aa2fb61ecaa444029ce75bc891cdae4a",
      "e61b149e6fee478085d02dc2e9018089",
      "e76e1c88d0e14785a3e9aa00fdda4489",
      "ecf497ee9b2b4b1daa6c564ea6460e99",
      "dd131756354945a3ab9cd68e8fe67e93",
      "b08ac2a5922b494da78746b07d44f995",
      "67664222100a4545aeadc4a30a44a195",
      "431d241f2c944d919650dc5aff76e6af",
      "3b3ce723983c43dd9e324eb3f0e69807",
      "16991a65e9444adea86a02618c70b358",
      "94f9d995a68646848e3af368cb2e4e88",
      "52383ad252ff44c789cba544a1978aff",
      "e6f992985caf45d4bd95548191420211",
      "e26cfd68157843fbb95ae42c008366a1",
      "cb36c857f1bc4c4e9e4b879db0d94137",
      "1cb7908ec1b84033bd8a23b411f8640f",
      "43c7ee7b2adb4c51a6f36944d269e9fa",
      "e10b11f1b7cb4af784b21fbacb9d1d47",
      "2dd6cb99c79545d384c374a297f458a0",
      "8d9e24820802463680ccc8cfde0a0bf4",
      "6de771326b0344b9a09ed0154f3a0ea6",
      "cb2c6e79b3d34cbfaea7b9be566b6444",
      "2121d11515384202a0aafa3a118ef35d",
      "6e0b532be920473a9f001fe133fd3757",
      "dbe4a4ac5cc9463888a19dcc5f7f1a68",
      "64a0d3a4463f4f249145a5b42360e9de",
      "52cb60211159432fa180bac8c445e6f5",
      "bc45856d80a64318b4504fe76495302f",
      "0863d9fedab844d08213ae2514df14a4",
      "c57dce080f10481a9e3fb41bd194853c",
      "dfffcb21d568413596bb6f6442ba3986",
      "03f9979bff524dd09de880b126e5d9ea",
      "55e9652ec3f74a0bb5269787f919df68",
      "9cc70e2d99df4dbfa9ced72ade8d5330",
      "a9e7ec62a94a48cb8ef46a4831ea2bc0",
      "7f67231c69b34fd88a91e7214fa034e9",
      "e36b753abd104364aef9f9850ef39756",
      "be843cc017fa48ffa2cc2edc6923c4c1",
      "125d0be54e8e4226b5b75eea3c7ad625",
      "a61cc267d28f4e32a9f94161ecac0ebd",
      "c5409571aeda4d31a022ed971d7d7857",
      "da6ab220ea0f4c09996310dce602e18b",
      "0de8303caeb24fc38853adfd3f82abee",
      "d81a476b9d5346baa4c64f6bfc9fe754",
      "fbef5a4af6c84da0a13569cf863459d0",
      "10718e25009749fd9872abd05ec51771",
      "1a006ea197d1470fa64898e3389e3b63",
      "b2a158d958564a2799efdfa544bd8980",
      "50f57dfe1d25445ba9cb576bd1832458",
      "d2b73db4d9ec40f4bbd67ec02dd0530c",
      "98f17889f1384e2ead451f3c7619cc5d",
      "15f5fd6f877f4e8cb8e0eb689aefdcbb",
      "a26aca6d26da4c51b71001c7a0a01ff1",
      "88a67ad9aa9b4f588c65428c2e07256f",
      "fe986900be1049e389a63d72f70c4bdb",
      "4bf11878b51640ed8fbf3319b00f213f",
      "f50568bf4ae840fea522d7d6e2bc0d32",
      "7b296053ac674999aabd713b4e08e506",
      "ef376d6af6634c40bb2c214cf602c9c5",
      "01469a3da8b4494aa53c6a1bd87e479c",
      "df12410f6e634d3aa79ff53e60eb86c4",
      "efafd2d6b99f4d34bb0a505e21ace9be",
      "cef71b2b372f4751a277ab27ad32119d",
      "7c77551a6ff34aa692c4cd7137b9b5b1",
      "900178783b6b459fafacfe6516fa13d1",
      "4e3780976fc944899a2d9fef14b5d9e8",
      "c1f541c41df147d2a06796423ec58de2",
      "351a4f9dda5f455ab08156ddfa78c3bf",
      "70fe70dd41784c16b06e1b31172341fd",
      "c3b1b3eed2bf46a0af88db2f391c6001",
      "9d7756ae492b491f9a220ad2b50af903",
      "690132397b22477c8a2490b7da0e9f8f",
      "b4761efc97b34469847bed7f21685d5e",
      "3db3dd8d323a425c9498c3fc84ff41dd",
      "82db764be68642f1b9e57c8cbd42c41d",
      "dad5ebc20cbf4db78f6e1f974ed3b26a",
      "a86d14e7897b4ddcaeb76d18746a08c5",
      "655730e1799c4794b81901bca0090b4b",
      "06f6a33abdd7428eaf727acc2d030712",
      "de1deb7b2c344ec2a75509d0ce15eed0",
      "05264875ced342e4839e006ab43cadb3",
      "a8dd719ed21649de9cfc8cc1967a4e92",
      "ea92695f17ab4c51bb28e5fc5a312485",
      "772be8b7c25f43e5ac63894bba6fb4f0",
      "5dd114407e304875bc78eac517dc670c",
      "c6814e4cf5c74205ba10a293ceafde48",
      "58ac8cf949b74f1392dff77ada1a8a3e",
      "f6befd52b21b42089003f70788a1fd2b",
      "3054c48b624b4f1f86462b25780529d0",
      "4e2686e254834796a73cc5defdafa6cd",
      "825a5899c5a849d0bd72f87b954d5291",
      "c1df144c47d046ad8e4ef76572ead53d",
      "d8a3de51ae364fa9badb3e48a4615159",
      "0646d2fe58a848cbb00d04466d9e93bc",
      "464bfe585927487391647296c6d1c922",
      "3b19e6544b734521883be8ac9f63209d",
      "2211ab243cdb4cb1b8bd5ebedf40c33e",
      "ed7094bafe7a49158a12bc6277c24733",
      "f104451729c1472191f8de62f1612ae1"
     ]
    },
    "id": "6381f6ca",
    "outputId": "d9fcb5cc-4479-4caa-85c3-6390c93d1db5"
   },
   "outputs": [
    {
     "data": {
      "application/vnd.jupyter.widget-view+json": {
       "model_id": "74b4324775be4ebb8b4ee64f275c7fe5",
       "version_major": 2,
       "version_minor": 0
      },
      "text/plain": [
       "Epoch:   0%|          | 0/10 [00:00<?, ?it/s]"
      ]
     },
     "metadata": {},
     "output_type": "display_data"
    },
    {
     "data": {
      "application/vnd.jupyter.widget-view+json": {
       "model_id": "f0bcf8cb663d42969568ab365d1e5237",
       "version_major": 2,
       "version_minor": 0
      },
      "text/plain": [
       "Training:   0%|          | 0/618 [00:00<?, ?it/s]"
      ]
     },
     "metadata": {},
     "output_type": "display_data"
    },
    {
     "data": {
      "application/vnd.jupyter.widget-view+json": {
       "model_id": "d30ba46534444cda92543da679517dc1",
       "version_major": 2,
       "version_minor": 0
      },
      "text/plain": [
       "Testing:   0%|          | 0/10 [00:00<?, ?it/s]"
      ]
     },
     "metadata": {},
     "output_type": "display_data"
    },
    {
     "data": {
      "application/vnd.jupyter.widget-view+json": {
       "model_id": "a61c07e2a6404762bdb57f957f4d9890",
       "version_major": 2,
       "version_minor": 0
      },
      "text/plain": [
       "Training:   0%|          | 0/618 [00:00<?, ?it/s]"
      ]
     },
     "metadata": {},
     "output_type": "display_data"
    },
    {
     "data": {
      "application/vnd.jupyter.widget-view+json": {
       "model_id": "4565079984df47a7bad8f9c8140561a6",
       "version_major": 2,
       "version_minor": 0
      },
      "text/plain": [
       "Testing:   0%|          | 0/10 [00:00<?, ?it/s]"
      ]
     },
     "metadata": {},
     "output_type": "display_data"
    },
    {
     "data": {
      "application/vnd.jupyter.widget-view+json": {
       "model_id": "179cd38d3c29482b9a56bc6b35234e1a",
       "version_major": 2,
       "version_minor": 0
      },
      "text/plain": [
       "Training:   0%|          | 0/618 [00:00<?, ?it/s]"
      ]
     },
     "metadata": {},
     "output_type": "display_data"
    },
    {
     "data": {
      "application/vnd.jupyter.widget-view+json": {
       "model_id": "843a297dbf074b40aaf3fd1ff32bed23",
       "version_major": 2,
       "version_minor": 0
      },
      "text/plain": [
       "Testing:   0%|          | 0/10 [00:00<?, ?it/s]"
      ]
     },
     "metadata": {},
     "output_type": "display_data"
    },
    {
     "data": {
      "application/vnd.jupyter.widget-view+json": {
       "model_id": "7e9e3e27c6b14be48a9035eb0c593ec4",
       "version_major": 2,
       "version_minor": 0
      },
      "text/plain": [
       "Training:   0%|          | 0/618 [00:00<?, ?it/s]"
      ]
     },
     "metadata": {},
     "output_type": "display_data"
    },
    {
     "data": {
      "application/vnd.jupyter.widget-view+json": {
       "model_id": "ed70cd306acd46d9b4ab2894e5989a90",
       "version_major": 2,
       "version_minor": 0
      },
      "text/plain": [
       "Testing:   0%|          | 0/10 [00:00<?, ?it/s]"
      ]
     },
     "metadata": {},
     "output_type": "display_data"
    },
    {
     "data": {
      "application/vnd.jupyter.widget-view+json": {
       "model_id": "1b17cec95f444789a38f30ce363ae64a",
       "version_major": 2,
       "version_minor": 0
      },
      "text/plain": [
       "Training:   0%|          | 0/618 [00:00<?, ?it/s]"
      ]
     },
     "metadata": {},
     "output_type": "display_data"
    },
    {
     "data": {
      "application/vnd.jupyter.widget-view+json": {
       "model_id": "4fcd4580fab4439dbe968c9cac720d6b",
       "version_major": 2,
       "version_minor": 0
      },
      "text/plain": [
       "Testing:   0%|          | 0/10 [00:00<?, ?it/s]"
      ]
     },
     "metadata": {},
     "output_type": "display_data"
    },
    {
     "data": {
      "application/vnd.jupyter.widget-view+json": {
       "model_id": "3479aca258de49c6836a8a962540c1f2",
       "version_major": 2,
       "version_minor": 0
      },
      "text/plain": [
       "Training:   0%|          | 0/618 [00:00<?, ?it/s]"
      ]
     },
     "metadata": {},
     "output_type": "display_data"
    },
    {
     "data": {
      "application/vnd.jupyter.widget-view+json": {
       "model_id": "aa2fb61ecaa444029ce75bc891cdae4a",
       "version_major": 2,
       "version_minor": 0
      },
      "text/plain": [
       "Testing:   0%|          | 0/10 [00:00<?, ?it/s]"
      ]
     },
     "metadata": {},
     "output_type": "display_data"
    },
    {
     "data": {
      "application/vnd.jupyter.widget-view+json": {
       "model_id": "52383ad252ff44c789cba544a1978aff",
       "version_major": 2,
       "version_minor": 0
      },
      "text/plain": [
       "Training:   0%|          | 0/618 [00:00<?, ?it/s]"
      ]
     },
     "metadata": {},
     "output_type": "display_data"
    },
    {
     "data": {
      "application/vnd.jupyter.widget-view+json": {
       "model_id": "2121d11515384202a0aafa3a118ef35d",
       "version_major": 2,
       "version_minor": 0
      },
      "text/plain": [
       "Testing:   0%|          | 0/10 [00:00<?, ?it/s]"
      ]
     },
     "metadata": {},
     "output_type": "display_data"
    },
    {
     "data": {
      "application/vnd.jupyter.widget-view+json": {
       "model_id": "9cc70e2d99df4dbfa9ced72ade8d5330",
       "version_major": 2,
       "version_minor": 0
      },
      "text/plain": [
       "Training:   0%|          | 0/618 [00:00<?, ?it/s]"
      ]
     },
     "metadata": {},
     "output_type": "display_data"
    },
    {
     "data": {
      "application/vnd.jupyter.widget-view+json": {
       "model_id": "fbef5a4af6c84da0a13569cf863459d0",
       "version_major": 2,
       "version_minor": 0
      },
      "text/plain": [
       "Testing:   0%|          | 0/10 [00:00<?, ?it/s]"
      ]
     },
     "metadata": {},
     "output_type": "display_data"
    },
    {
     "data": {
      "application/vnd.jupyter.widget-view+json": {
       "model_id": "4bf11878b51640ed8fbf3319b00f213f",
       "version_major": 2,
       "version_minor": 0
      },
      "text/plain": [
       "Training:   0%|          | 0/618 [00:00<?, ?it/s]"
      ]
     },
     "metadata": {},
     "output_type": "display_data"
    },
    {
     "data": {
      "application/vnd.jupyter.widget-view+json": {
       "model_id": "c1f541c41df147d2a06796423ec58de2",
       "version_major": 2,
       "version_minor": 0
      },
      "text/plain": [
       "Testing:   0%|          | 0/10 [00:00<?, ?it/s]"
      ]
     },
     "metadata": {},
     "output_type": "display_data"
    },
    {
     "data": {
      "application/vnd.jupyter.widget-view+json": {
       "model_id": "655730e1799c4794b81901bca0090b4b",
       "version_major": 2,
       "version_minor": 0
      },
      "text/plain": [
       "Training:   0%|          | 0/618 [00:00<?, ?it/s]"
      ]
     },
     "metadata": {},
     "output_type": "display_data"
    },
    {
     "data": {
      "application/vnd.jupyter.widget-view+json": {
       "model_id": "3054c48b624b4f1f86462b25780529d0",
       "version_major": 2,
       "version_minor": 0
      },
      "text/plain": [
       "Testing:   0%|          | 0/10 [00:00<?, ?it/s]"
      ]
     },
     "metadata": {},
     "output_type": "display_data"
    }
   ],
   "source": [
    "loss_func = nn.CrossEntropyLoss()\n",
    "batch_one_train = train_simple_network(first_rnn,\n",
    "                                    loss_func,\n",
    "                                    train_loader,\n",
    "                                    test_loader=test_loader,\n",
    "                                    score_funcs={'Accuracy': accuracy_score},\n",
    "                                    device='cpu', epochs=10)\n"
   ]
  },
  {
   "cell_type": "code",
   "execution_count": 89,
   "id": "f9c0a98c",
   "metadata": {
    "colab": {
     "base_uri": "https://localhost:8080/",
     "height": 466
    },
    "id": "f9c0a98c",
    "outputId": "1b55204b-8983-4031-e2a2-01683b15e975"
   },
   "outputs": [
    {
     "data": {
      "text/plain": [
       "<Axes: xlabel='epoch', ylabel='test Accuracy'>"
      ]
     },
     "execution_count": 89,
     "metadata": {},
     "output_type": "execute_result"
    },
    {
     "data": {
      "image/png": "[encoded data removed]",
      "text/plain": [
       "<Figure size 640x480 with 1 Axes>"
      ]
     },
     "metadata": {},
     "output_type": "display_data"
    }
   ],
   "source": [
    "sns.lineplot(x='epoch', y='test Accuracy', data=batch_one_train, label='RNN')"
   ]
  },
  {
   "cell_type": "code",
   "execution_count": 90,
   "id": "3bf5fcee",
   "metadata": {
    "colab": {
     "base_uri": "https://localhost:8080/"
    },
    "id": "3bf5fcee",
    "outputId": "6789914b-2a6d-4525-d4c3-1fd4ad60a32f"
   },
   "outputs": [
    {
     "name": "stdout",
     "output_type": "stream",
     "text": [
      "Arabic : 3.110765479505062 %\n",
      "Chinese : 3.4210745245218277 %\n",
      "Czech : 4.708697274327278 %\n",
      "Dutch : 4.651636257767677 %\n",
      "English : 4.855295643210411 %\n",
      "French : 4.666825011372566 %\n",
      "German : 7.66642838716507 %\n",
      "Greek : 3.4409429877996445 %\n",
      "Irish : 3.9849903434515 %\n",
      "Italian : 6.942344456911087 %\n",
      "Japanese : 5.89587427675724 %\n",
      "Korean : 4.106171801686287 %\n",
      "Polish : 4.933125898241997 %\n",
      "Portuguese : 3.0587712302803993 %\n",
      "Russian : 22.747741639614105 %\n",
      "Scottish : 5.734020099043846 %\n",
      "Spanish : 3.918346017599106 %\n",
      "Vietnamese : 2.156945690512657 %\n"
     ]
    }
   ],
   "source": [
    "pred_rnn = first_rnn.to(\"cpu\").eval()\n",
    "with torch.inference_mode():\n",
    "    preds = F.softmax(pred_rnn(dataset.string2InputVec(\"frank\").reshape(1,-1)), dim=-1)\n",
    "    for class_id in range(len(dataset.label_names)):\n",
    "        print(dataset.label_names[class_id], \":\", preds[0,class_id].item()*100 , \"%\")"
   ]
  },
  {
   "cell_type": "markdown",
   "id": "a9033d2e",
   "metadata": {
    "id": "a9033d2e"
   },
   "source": [
    "### More simple example"
   ]
  },
  {
   "cell_type": "code",
   "execution_count": 91,
   "id": "0b2ace22",
   "metadata": {
    "colab": {
     "base_uri": "https://localhost:8080/"
    },
    "id": "0b2ace22",
    "outputId": "461c4d1c-802e-496a-b4cc-1293654a3ccf"
   },
   "outputs": [
    {
     "name": "stdout",
     "output_type": "stream",
     "text": [
      "Character vocabulary size: 36\n",
      "Character mapping example: {'A': 1, 'C': 2, 'D': 3, 'E': 4, 'H': 5}\n",
      "Maximum name length: 11\n",
      "Input tensor shape: torch.Size([3, 5, 11])\n",
      "\n",
      "Encoded first name in batch 1: tensor([ 6, 27, 20, 26,  0,  0,  0,  0,  0,  0,  0])\n",
      "Decoded back: John\n",
      "\n",
      "Output shape for first names: torch.Size([3, 11, 20])\n",
      "Hidden state shape: torch.Size([1, 3, 20])\n"
     ]
    }
   ],
   "source": [
    "import torch\n",
    "import torch.nn as nn\n",
    "\n",
    "# Sample data: 3 batches, each with 5 names\n",
    "names_batch = [\n",
    "    # Batch 1: 5 American names\n",
    "    [\"John\", \"Elizabeth\", \"Michael\", \"Jennifer\", \"Christopher\"],\n",
    "\n",
    "    # Batch 2: 5 Japanese names\n",
    "    [\"Hiroshi\", \"Yuki\", \"Takeshi\", \"Aiko\", \"Kenji\"],\n",
    "\n",
    "    # Batch 3: 5 Indian names\n",
    "    [\"Raj\", \"Priya\", \"Aditya\", \"Divya\", \"Vikram\"]\n",
    "]\n",
    "\n",
    "# Step 1: Convert characters to indices\n",
    "# First, create a vocabulary of all characters\n",
    "all_chars = set()\n",
    "for batch in names_batch:\n",
    "    for name in batch:\n",
    "        all_chars.update(name)\n",
    "\n",
    "char_to_idx = {char: i+1 for i, char in enumerate(sorted(all_chars))}\n",
    "\n",
    "# Add padding token\n",
    "char_to_idx['<PAD>'] = 0\n",
    "idx_to_char = {i: char for char, i in char_to_idx.items()}\n",
    "\n",
    "print(\"Character vocabulary size:\", len(char_to_idx))\n",
    "print(\"Character mapping example:\", {k: char_to_idx[k] for k in list(char_to_idx.keys())[:5]})\n",
    "\n",
    "# Step 2: Find the longest name to determine max sequence length\n",
    "max_name_length = max(len(name) for batch in names_batch for name in batch)\n",
    "print(\"Maximum name length:\", max_name_length)\n",
    "\n",
    "# Step 3: Convert names to padded sequences of indices\n",
    "# Shape will be [batch_size, seq_length, input_size]\n",
    "# Where input_size=1 (one character at a time)\n",
    "input_data = torch.zeros(3, 5, max_name_length, dtype=torch.long)\n",
    "\n",
    "for batch_idx, batch in enumerate(names_batch):\n",
    "    for name_idx, name in enumerate(batch):\n",
    "        for char_idx, char in enumerate(name):\n",
    "            input_data[batch_idx, name_idx, char_idx] = char_to_idx[char]\n",
    "\n",
    "print(\"Input tensor shape:\", input_data.shape)\n",
    "print(\"\\nEncoded first name in batch 1:\", input_data[0, 0])\n",
    "print(\"Decoded back:\", ''.join([idx_to_char[idx.item()] for idx in input_data[0, 0] if idx.item() > 0]))\n",
    "\n",
    "# Step 4: For RNN processing, we need to convert this to one-hot encoding or embeddings\n",
    "# Let's use embeddings which is more efficient\n",
    "vocab_size = len(char_to_idx)\n",
    "embedding_dim = 10  # Size of character embeddings\n",
    "\n",
    "class NameRNN(nn.Module):\n",
    "    def __init__(self, vocab_size, embedding_dim, hidden_size):\n",
    "        super(NameRNN, self).__init__()\n",
    "        self.embedding = nn.Embedding(vocab_size, embedding_dim)\n",
    "        self.rnn = nn.RNN(embedding_dim, hidden_size, batch_first=True)\n",
    "        # We'll use the final hidden state for classification\n",
    "\n",
    "    def forward(self, x):\n",
    "        # x shape: [batch_size, seq_length] for each name\n",
    "        embedded = self.embedding(x)  # Shape: [batch_size, seq_length, embedding_dim]\n",
    "        output, hidden = self.rnn(embedded)\n",
    "        return output, hidden\n",
    "\n",
    "# For processing, we'd need to reshape our data\n",
    "# Let's process one batch at a time for clarity\n",
    "model = NameRNN(vocab_size, embedding_dim, hidden_size=20)\n",
    "\n",
    "# Process the first name in each batch\n",
    "first_names = input_data[:, 0, :]  # Shape: [3, max_name_length]\n",
    "output, hidden = model(first_names)\n",
    "\n",
    "print(\"\\nOutput shape for first names:\", output.shape)  # Should be [3, max_name_length, 20]\n",
    "print(\"Hidden state shape:\", hidden.shape)  # Should be [1, 3, 20]"
   ]
  },
  {
   "cell_type": "code",
   "execution_count": 91,
   "id": "94398a55",
   "metadata": {
    "id": "94398a55"
   },
   "outputs": [],
   "source": []
  }
 ],
 "metadata": {
  "colab": {
   "provenance": []
  },
  "kernelspec": {
   "display_name": "Python 3",
   "language": "python",
   "name": "python3"
  },
  "language_info": {
   "codemirror_mode": {
    "name": "ipython",
    "version": 3
   },
   "file_extension": ".py",
   "mimetype": "text/x-python",
   "name": "python",
   "nbconvert_exporter": "python",
   "pygments_lexer": "ipython3",
   "version": "3.12.4"
  }
 },
 "nbformat": 4,
 "nbformat_minor": 5
}
